{
 "cells": [
  {
   "cell_type": "markdown",
   "metadata": {},
   "source": [
    "# Spotify Song Similarity Search\n",
    "This notebook takes in a dataset of Spotify songs with several fetures for each song.  We train a KDTree on the dataset, then query the tree for each song's 10 nearest neighbors.  We export the results as a CSV file that can be added (along with the original dataset) to a database for the website."
   ]
  },
  {
   "cell_type": "code",
   "execution_count": 51,
   "metadata": {},
   "outputs": [],
   "source": [
    "import pandas as pd\n",
    "import numpy as np\n",
    "from sklearn.preprocessing import StandardScaler\n",
    "from sklearn.neighbors import KDTree"
   ]
  },
  {
   "cell_type": "code",
   "execution_count": 52,
   "metadata": {},
   "outputs": [
    {
     "data": {
      "text/html": [
       "<div>\n",
       "<style scoped>\n",
       "    .dataframe tbody tr th:only-of-type {\n",
       "        vertical-align: middle;\n",
       "    }\n",
       "\n",
       "    .dataframe tbody tr th {\n",
       "        vertical-align: top;\n",
       "    }\n",
       "\n",
       "    .dataframe thead th {\n",
       "        text-align: right;\n",
       "    }\n",
       "</style>\n",
       "<table border=\"1\" class=\"dataframe\">\n",
       "  <thead>\n",
       "    <tr style=\"text-align: right;\">\n",
       "      <th></th>\n",
       "      <th>artist_name</th>\n",
       "      <th>track_id</th>\n",
       "      <th>track_name</th>\n",
       "      <th>acousticness</th>\n",
       "      <th>danceability</th>\n",
       "      <th>duration_ms</th>\n",
       "      <th>energy</th>\n",
       "      <th>instrumentalness</th>\n",
       "      <th>key</th>\n",
       "      <th>liveness</th>\n",
       "      <th>loudness</th>\n",
       "      <th>mode</th>\n",
       "      <th>speechiness</th>\n",
       "      <th>tempo</th>\n",
       "      <th>time_signature</th>\n",
       "      <th>valence</th>\n",
       "      <th>popularity</th>\n",
       "    </tr>\n",
       "  </thead>\n",
       "  <tbody>\n",
       "    <tr>\n",
       "      <th>0</th>\n",
       "      <td>YG</td>\n",
       "      <td>2RM4jf1Xa9zPgMGRDiht8O</td>\n",
       "      <td>Big Bank feat. 2 Chainz, Big Sean, Nicki Minaj</td>\n",
       "      <td>0.005820</td>\n",
       "      <td>0.743</td>\n",
       "      <td>238373</td>\n",
       "      <td>0.339</td>\n",
       "      <td>0.000</td>\n",
       "      <td>1</td>\n",
       "      <td>0.0812</td>\n",
       "      <td>-7.678</td>\n",
       "      <td>1</td>\n",
       "      <td>0.4090</td>\n",
       "      <td>203.927</td>\n",
       "      <td>4</td>\n",
       "      <td>0.118</td>\n",
       "      <td>44</td>\n",
       "    </tr>\n",
       "    <tr>\n",
       "      <th>1</th>\n",
       "      <td>YG</td>\n",
       "      <td>1tHDG53xJNGsItRA3vfVgs</td>\n",
       "      <td>BAND DRUM (feat. A$AP Rocky)</td>\n",
       "      <td>0.024400</td>\n",
       "      <td>0.846</td>\n",
       "      <td>214800</td>\n",
       "      <td>0.557</td>\n",
       "      <td>0.000</td>\n",
       "      <td>8</td>\n",
       "      <td>0.2860</td>\n",
       "      <td>-7.259</td>\n",
       "      <td>1</td>\n",
       "      <td>0.4570</td>\n",
       "      <td>159.009</td>\n",
       "      <td>4</td>\n",
       "      <td>0.371</td>\n",
       "      <td>10</td>\n",
       "    </tr>\n",
       "    <tr>\n",
       "      <th>2</th>\n",
       "      <td>R3HAB</td>\n",
       "      <td>6Wosx2euFPMT14UXiWudMy</td>\n",
       "      <td>Radio Silence</td>\n",
       "      <td>0.025000</td>\n",
       "      <td>0.603</td>\n",
       "      <td>138913</td>\n",
       "      <td>0.723</td>\n",
       "      <td>0.000</td>\n",
       "      <td>9</td>\n",
       "      <td>0.0824</td>\n",
       "      <td>-5.890</td>\n",
       "      <td>0</td>\n",
       "      <td>0.0454</td>\n",
       "      <td>114.966</td>\n",
       "      <td>4</td>\n",
       "      <td>0.382</td>\n",
       "      <td>63</td>\n",
       "    </tr>\n",
       "    <tr>\n",
       "      <th>3</th>\n",
       "      <td>Chris Cooq</td>\n",
       "      <td>3J2Jpw61sO7l6Hc7qdYV91</td>\n",
       "      <td>Lactose</td>\n",
       "      <td>0.029400</td>\n",
       "      <td>0.800</td>\n",
       "      <td>125381</td>\n",
       "      <td>0.579</td>\n",
       "      <td>0.912</td>\n",
       "      <td>5</td>\n",
       "      <td>0.0994</td>\n",
       "      <td>-12.118</td>\n",
       "      <td>0</td>\n",
       "      <td>0.0701</td>\n",
       "      <td>123.003</td>\n",
       "      <td>4</td>\n",
       "      <td>0.641</td>\n",
       "      <td>9</td>\n",
       "    </tr>\n",
       "    <tr>\n",
       "      <th>4</th>\n",
       "      <td>Chris Cooq</td>\n",
       "      <td>2jbYvQCyPgX3CdmAzeVeuS</td>\n",
       "      <td>Same - Original mix</td>\n",
       "      <td>0.000035</td>\n",
       "      <td>0.783</td>\n",
       "      <td>124016</td>\n",
       "      <td>0.792</td>\n",
       "      <td>0.878</td>\n",
       "      <td>7</td>\n",
       "      <td>0.0332</td>\n",
       "      <td>-10.277</td>\n",
       "      <td>1</td>\n",
       "      <td>0.0661</td>\n",
       "      <td>120.047</td>\n",
       "      <td>4</td>\n",
       "      <td>0.928</td>\n",
       "      <td>8</td>\n",
       "    </tr>\n",
       "  </tbody>\n",
       "</table>\n",
       "</div>"
      ],
      "text/plain": [
       "  artist_name                track_id  \\\n",
       "0          YG  2RM4jf1Xa9zPgMGRDiht8O   \n",
       "1          YG  1tHDG53xJNGsItRA3vfVgs   \n",
       "2       R3HAB  6Wosx2euFPMT14UXiWudMy   \n",
       "3  Chris Cooq  3J2Jpw61sO7l6Hc7qdYV91   \n",
       "4  Chris Cooq  2jbYvQCyPgX3CdmAzeVeuS   \n",
       "\n",
       "                                       track_name  acousticness  danceability  \\\n",
       "0  Big Bank feat. 2 Chainz, Big Sean, Nicki Minaj      0.005820         0.743   \n",
       "1                    BAND DRUM (feat. A$AP Rocky)      0.024400         0.846   \n",
       "2                                   Radio Silence      0.025000         0.603   \n",
       "3                                         Lactose      0.029400         0.800   \n",
       "4                             Same - Original mix      0.000035         0.783   \n",
       "\n",
       "   duration_ms  energy  instrumentalness  key  liveness  loudness  mode  \\\n",
       "0       238373   0.339             0.000    1    0.0812    -7.678     1   \n",
       "1       214800   0.557             0.000    8    0.2860    -7.259     1   \n",
       "2       138913   0.723             0.000    9    0.0824    -5.890     0   \n",
       "3       125381   0.579             0.912    5    0.0994   -12.118     0   \n",
       "4       124016   0.792             0.878    7    0.0332   -10.277     1   \n",
       "\n",
       "   speechiness    tempo  time_signature  valence  popularity  \n",
       "0       0.4090  203.927               4    0.118          44  \n",
       "1       0.4570  159.009               4    0.371          10  \n",
       "2       0.0454  114.966               4    0.382          63  \n",
       "3       0.0701  123.003               4    0.641           9  \n",
       "4       0.0661  120.047               4    0.928           8  "
      ]
     },
     "execution_count": 52,
     "metadata": {},
     "output_type": "execute_result"
    }
   ],
   "source": [
    "# Import the Spotify dataset as a pandas dataframe\n",
    "df = pd.read_csv('dataset/SpotifyAudioFeaturesNov2018.csv')\n",
    "df.head()"
   ]
  },
  {
   "cell_type": "code",
   "execution_count": 53,
   "metadata": {
    "scrolled": true
   },
   "outputs": [],
   "source": [
    "## isolating values with a high level of 'speechiness' as they are generally not music but other types of recordings.\n",
    "## converting unwanted values to null then removing those rows\n",
    "df['speechiness'].where(df['speechiness'] < .66, inplace=True)\n",
    "df = df.dropna()"
   ]
  },
  {
   "cell_type": "code",
   "execution_count": 54,
   "metadata": {},
   "outputs": [],
   "source": [
    "# Create a dataframe the numerical columns that similarity searches will be based on.\n",
    "df_features = df.drop(columns=['artist_name', 'track_id', 'track_name'])\n",
    "\n",
    "# Create a numpy array where the numerical features are scaled to a mean of 0 and a standard deviation of 1.\n",
    "scaler = StandardScaler()\n",
    "X = scaler.fit_transform(df_features)"
   ]
  },
  {
   "cell_type": "code",
   "execution_count": 58,
   "metadata": {},
   "outputs": [],
   "source": [
    "# Create the tree\n",
    "tree = KDTree(X)"
   ]
  },
  {
   "cell_type": "code",
   "execution_count": 59,
   "metadata": {},
   "outputs": [
    {
     "name": "stdout",
     "output_type": "stream",
     "text": [
      "CPU times: user 7min 12s, sys: 5.24 s, total: 7min 17s\n",
      "Wall time: 7min 47s\n"
     ]
    }
   ],
   "source": [
    "%%time\n",
    "# Query the tree for the 11 nearest neighbors of each song (the first and closest neighbor is itself)\n",
    "dist, ind = tree.query(X, k=11)"
   ]
  },
  {
   "cell_type": "code",
   "execution_count": 84,
   "metadata": {},
   "outputs": [
    {
     "data": {
      "text/html": [
       "<div>\n",
       "<style scoped>\n",
       "    .dataframe tbody tr th:only-of-type {\n",
       "        vertical-align: middle;\n",
       "    }\n",
       "\n",
       "    .dataframe tbody tr th {\n",
       "        vertical-align: top;\n",
       "    }\n",
       "\n",
       "    .dataframe thead th {\n",
       "        text-align: right;\n",
       "    }\n",
       "</style>\n",
       "<table border=\"1\" class=\"dataframe\">\n",
       "  <thead>\n",
       "    <tr style=\"text-align: right;\">\n",
       "      <th></th>\n",
       "      <th>0</th>\n",
       "      <th>1</th>\n",
       "      <th>2</th>\n",
       "      <th>3</th>\n",
       "      <th>4</th>\n",
       "      <th>5</th>\n",
       "      <th>6</th>\n",
       "      <th>7</th>\n",
       "      <th>8</th>\n",
       "      <th>9</th>\n",
       "      <th>10</th>\n",
       "    </tr>\n",
       "  </thead>\n",
       "  <tbody>\n",
       "    <tr>\n",
       "      <th>count</th>\n",
       "      <td>115661.0</td>\n",
       "      <td>115661.000000</td>\n",
       "      <td>115661.000000</td>\n",
       "      <td>115661.000000</td>\n",
       "      <td>115661.000000</td>\n",
       "      <td>115661.000000</td>\n",
       "      <td>115661.000000</td>\n",
       "      <td>115661.000000</td>\n",
       "      <td>115661.000000</td>\n",
       "      <td>115661.000000</td>\n",
       "      <td>115661.000000</td>\n",
       "    </tr>\n",
       "    <tr>\n",
       "      <th>mean</th>\n",
       "      <td>0.0</td>\n",
       "      <td>0.995455</td>\n",
       "      <td>1.120322</td>\n",
       "      <td>1.188797</td>\n",
       "      <td>1.236725</td>\n",
       "      <td>1.274583</td>\n",
       "      <td>1.305558</td>\n",
       "      <td>1.332252</td>\n",
       "      <td>1.355642</td>\n",
       "      <td>1.377049</td>\n",
       "      <td>1.397147</td>\n",
       "    </tr>\n",
       "    <tr>\n",
       "      <th>std</th>\n",
       "      <td>0.0</td>\n",
       "      <td>0.369554</td>\n",
       "      <td>0.381153</td>\n",
       "      <td>0.395634</td>\n",
       "      <td>0.408431</td>\n",
       "      <td>0.419167</td>\n",
       "      <td>0.428714</td>\n",
       "      <td>0.437291</td>\n",
       "      <td>0.446002</td>\n",
       "      <td>0.450899</td>\n",
       "      <td>0.455723</td>\n",
       "    </tr>\n",
       "    <tr>\n",
       "      <th>min</th>\n",
       "      <td>0.0</td>\n",
       "      <td>0.000000</td>\n",
       "      <td>0.000000</td>\n",
       "      <td>0.000000</td>\n",
       "      <td>0.000000</td>\n",
       "      <td>0.000000</td>\n",
       "      <td>0.000000</td>\n",
       "      <td>0.000000</td>\n",
       "      <td>0.000000</td>\n",
       "      <td>0.111483</td>\n",
       "      <td>0.111483</td>\n",
       "    </tr>\n",
       "    <tr>\n",
       "      <th>25%</th>\n",
       "      <td>0.0</td>\n",
       "      <td>0.759705</td>\n",
       "      <td>0.866464</td>\n",
       "      <td>0.921924</td>\n",
       "      <td>0.960813</td>\n",
       "      <td>0.991400</td>\n",
       "      <td>1.016308</td>\n",
       "      <td>1.037811</td>\n",
       "      <td>1.055313</td>\n",
       "      <td>1.072162</td>\n",
       "      <td>1.088063</td>\n",
       "    </tr>\n",
       "    <tr>\n",
       "      <th>50%</th>\n",
       "      <td>0.0</td>\n",
       "      <td>0.934400</td>\n",
       "      <td>1.043723</td>\n",
       "      <td>1.105446</td>\n",
       "      <td>1.148782</td>\n",
       "      <td>1.183391</td>\n",
       "      <td>1.211825</td>\n",
       "      <td>1.236491</td>\n",
       "      <td>1.258397</td>\n",
       "      <td>1.277462</td>\n",
       "      <td>1.294730</td>\n",
       "    </tr>\n",
       "    <tr>\n",
       "      <th>75%</th>\n",
       "      <td>0.0</td>\n",
       "      <td>1.163007</td>\n",
       "      <td>1.286913</td>\n",
       "      <td>1.360164</td>\n",
       "      <td>1.412858</td>\n",
       "      <td>1.453853</td>\n",
       "      <td>1.487951</td>\n",
       "      <td>1.517441</td>\n",
       "      <td>1.543412</td>\n",
       "      <td>1.567197</td>\n",
       "      <td>1.588710</td>\n",
       "    </tr>\n",
       "    <tr>\n",
       "      <th>max</th>\n",
       "      <td>0.0</td>\n",
       "      <td>9.463859</td>\n",
       "      <td>9.552921</td>\n",
       "      <td>10.045397</td>\n",
       "      <td>10.567293</td>\n",
       "      <td>10.695724</td>\n",
       "      <td>10.845538</td>\n",
       "      <td>12.737658</td>\n",
       "      <td>15.790074</td>\n",
       "      <td>16.005042</td>\n",
       "      <td>16.706121</td>\n",
       "    </tr>\n",
       "  </tbody>\n",
       "</table>\n",
       "</div>"
      ],
      "text/plain": [
       "             0              1              2              3              4   \\\n",
       "count  115661.0  115661.000000  115661.000000  115661.000000  115661.000000   \n",
       "mean        0.0       0.995455       1.120322       1.188797       1.236725   \n",
       "std         0.0       0.369554       0.381153       0.395634       0.408431   \n",
       "min         0.0       0.000000       0.000000       0.000000       0.000000   \n",
       "25%         0.0       0.759705       0.866464       0.921924       0.960813   \n",
       "50%         0.0       0.934400       1.043723       1.105446       1.148782   \n",
       "75%         0.0       1.163007       1.286913       1.360164       1.412858   \n",
       "max         0.0       9.463859       9.552921      10.045397      10.567293   \n",
       "\n",
       "                  5              6              7              8   \\\n",
       "count  115661.000000  115661.000000  115661.000000  115661.000000   \n",
       "mean        1.274583       1.305558       1.332252       1.355642   \n",
       "std         0.419167       0.428714       0.437291       0.446002   \n",
       "min         0.000000       0.000000       0.000000       0.000000   \n",
       "25%         0.991400       1.016308       1.037811       1.055313   \n",
       "50%         1.183391       1.211825       1.236491       1.258397   \n",
       "75%         1.453853       1.487951       1.517441       1.543412   \n",
       "max        10.695724      10.845538      12.737658      15.790074   \n",
       "\n",
       "                  9              10  \n",
       "count  115661.000000  115661.000000  \n",
       "mean        1.377049       1.397147  \n",
       "std         0.450899       0.455723  \n",
       "min         0.111483       0.111483  \n",
       "25%         1.072162       1.088063  \n",
       "50%         1.277462       1.294730  \n",
       "75%         1.567197       1.588710  \n",
       "max        16.005042      16.706121  "
      ]
     },
     "execution_count": 84,
     "metadata": {},
     "output_type": "execute_result"
    }
   ],
   "source": [
    "# An overview of the 10 closest neighbors as they become more distant from the x variable.\n",
    "dist_df = pd.DataFrame(dist)\n",
    "dist_df.describe()"
   ]
  },
  {
   "cell_type": "code",
   "execution_count": 11,
   "metadata": {
    "scrolled": true
   },
   "outputs": [
    {
     "data": {
      "text/plain": [
       "array([[     0,  95873,  22119,  38864,   8443, 101583,  29862, 113771,\n",
       "        107896, 113505, 106525],\n",
       "       [     1,  79984,  83083,  21375,  51301,  68037,  81472,  78112,\n",
       "         55646,  84875,  69518],\n",
       "       [     2, 112473,  27203, 107303, 102422, 101645, 115723, 111076,\n",
       "        111204, 107523,  97299],\n",
       "       [     3,     36,     34,  51118,     29,   2004,  93346,  59543,\n",
       "         93409,   2369,  47635],\n",
       "       [     4,  22270,  32639,  31740,   2406,  74248,  31700,  13342,\n",
       "         15898,  32238,  29871],\n",
       "       [     5,  20949,   7284,  31081,   2199,   2090,  26201,   2781,\n",
       "           299,   7177,  18829],\n",
       "       [     6,   2817,  47165,   2369,  16566,  31753,   1752,   2004,\n",
       "         94030,  70694,  68281],\n",
       "       [     7,  44545,  31378,  23086,  20855,  69518,  56788,  89771,\n",
       "         54828,  88959,  68037],\n",
       "       [     8,   2768,     18,  94386,   2420,  58920,     27,  72590,\n",
       "         73625,  93439,  92879],\n",
       "       [     9,    898,   4586,     43,   7569,  11492,   2123,   2867,\n",
       "         94962,  94517,  96136]])"
      ]
     },
     "execution_count": 11,
     "metadata": {},
     "output_type": "execute_result"
    }
   ],
   "source": [
    "# ind is an array of the indices of all the nearest neighbors, as found in X and df.\n",
    "ind[:10]"
   ]
  },
  {
   "cell_type": "code",
   "execution_count": 47,
   "metadata": {},
   "outputs": [
    {
     "data": {
      "text/plain": [
       "array(['2RM4jf1Xa9zPgMGRDiht8O', '1tHDG53xJNGsItRA3vfVgs',\n",
       "       '6Wosx2euFPMT14UXiWudMy', ..., '0B2LhMYcGR9Gmi6BQLdzlO',\n",
       "       '0yzA9b21pJgnlLQDirsxAm', '2ud0K7X5LzmxJP2LEvkHio'], dtype=object)"
      ]
     },
     "execution_count": 47,
     "metadata": {},
     "output_type": "execute_result"
    }
   ],
   "source": [
    "# ids_only is an array of all the IDs, with the same shape as the original dataframe, \n",
    "# so that the indices in ind correspond to the right entries\n",
    "ids_only = np.array(df.track_id)\n",
    "ids_only"
   ]
  },
  {
   "cell_type": "code",
   "execution_count": 48,
   "metadata": {},
   "outputs": [],
   "source": [
    "def process(ids_only, ind): \n",
    "    \n",
    "    similars = []\n",
    "    \n",
    "    for row in ind:\n",
    "        ids = [ids_only[x] for x in row]\n",
    "        similars.append(ids)\n",
    "        \n",
    "    return similars"
   ]
  },
  {
   "cell_type": "code",
   "execution_count": 49,
   "metadata": {
    "scrolled": true
   },
   "outputs": [
    {
     "name": "stdout",
     "output_type": "stream",
     "text": [
      "CPU times: user 1.18 s, sys: 370 ms, total: 1.55 s\n",
      "Wall time: 1.61 s\n"
     ]
    }
   ],
   "source": [
    "%%time\n",
    "similars = process(ids_only, ind)"
   ]
  },
  {
   "cell_type": "code",
   "execution_count": 51,
   "metadata": {},
   "outputs": [
    {
     "data": {
      "text/plain": [
       "['2RM4jf1Xa9zPgMGRDiht8O',\n",
       " '3EOuVx8f5Bb9AIt3PrRHKO',\n",
       " '61KEpN0YvwDrwaqqT65ecD',\n",
       " '0X8XHADrYzkNGK7AlEZNBN',\n",
       " '0UGcmjbvLBf7JR4PHntTpd',\n",
       " '7Jbt6KWzS8cpP1xnW0tQ96',\n",
       " '1qEu5WXxkmh4nwldLYJgYC',\n",
       " '0MiAP4EQGIuikH23RTyP53',\n",
       " '75OGmcs4DTNJqWHCKTGegx',\n",
       " '3cYNoOv4SEWPIZmh34JrUv',\n",
       " '3XcnvbkurHelpe04EETr9k']"
      ]
     },
     "execution_count": 51,
     "metadata": {},
     "output_type": "execute_result"
    }
   ],
   "source": [
    "# The first item in each row is a song in the original database.  \n",
    "# The next 10 rows are its closest neighbors in the KDTree.\n",
    "similars[0]"
   ]
  },
  {
   "cell_type": "code",
   "execution_count": 53,
   "metadata": {},
   "outputs": [],
   "source": [
    "# Turn this list into a dataframe for export\n",
    "cols = ['id', 'sim1', 'sim2', 'sim3', 'sim4', 'sim5', 'sim6', 'sim7', 'sim8', 'sim9', 'sim10']\n",
    "df2 = pd.DataFrame(similars, columns=cols)"
   ]
  },
  {
   "cell_type": "code",
   "execution_count": 54,
   "metadata": {},
   "outputs": [],
   "source": [
    "# Remove duplicates\n",
    "df3 = df2.drop_duplicates(subset=['id'], keep='first')"
   ]
  },
  {
   "cell_type": "code",
   "execution_count": null,
   "metadata": {},
   "outputs": [],
   "source": [
    "# Export to CSV\n",
    "df3.to_csv('dataset/similars.csv')"
   ]
  }
 ],
 "metadata": {
  "kernelspec": {
   "display_name": "Python 3",
   "language": "python",
   "name": "python3"
  },
  "language_info": {
   "codemirror_mode": {
    "name": "ipython",
    "version": 3
   },
   "file_extension": ".py",
   "mimetype": "text/x-python",
   "name": "python",
   "nbconvert_exporter": "python",
   "pygments_lexer": "ipython3",
   "version": "3.7.2"
  }
 },
 "nbformat": 4,
 "nbformat_minor": 2
}
